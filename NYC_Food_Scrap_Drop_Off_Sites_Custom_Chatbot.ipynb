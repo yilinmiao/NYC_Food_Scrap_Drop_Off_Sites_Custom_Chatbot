{
  "nbformat": 4,
  "nbformat_minor": 0,
  "metadata": {
    "colab": {
      "provenance": [],
      "mount_file_id": "1Fhy_PPr9gUDsgz_vzs37mvf6UoGrbIIw",
      "authorship_tag": "ABX9TyOvouLg6r76zvAMIMxsNdjf",
      "include_colab_link": true
    },
    "kernelspec": {
      "name": "python3",
      "display_name": "Python 3"
    },
    "language_info": {
      "name": "python"
    }
  },
  "cells": [
    {
      "cell_type": "markdown",
      "metadata": {
        "id": "view-in-github",
        "colab_type": "text"
      },
      "source": [
        "<a href=\"https://colab.research.google.com/github/yilinmiao/NYC_Food_Scrap_Drop_Off_Sites_Custom_Chatbot/blob/main/NYC_Food_Scrap_Drop_Off_Sites_Custom_Chatbot.ipynb\" target=\"_parent\"><img src=\"https://colab.research.google.com/assets/colab-badge.svg\" alt=\"Open In Colab\"/></a>"
      ]
    },
    {
      "cell_type": "markdown",
      "source": [
        "# NYC Food Scrap Drop-Off Sites Custom Chatbot"
      ],
      "metadata": {
        "id": "QPeeH2yjHgZo"
      }
    },
    {
      "cell_type": "markdown",
      "source": [
        "For this chatbot, I've chosen the NYC Food Scrap Drop-off Sites dataset. This dataset is appropriate for this application because it provides comprehensive information about composting locations throughout New York City, including details about location, hours, acceptable materials, and special instructions. This data would be valuable for creating a chatbot that can help NYC residents find convenient places to drop off their food scraps and understand composting guidelines, promoting sustainable waste management practices in the city. The structured nature of the data with various fields makes it suitable for conversion into a text format that can be used to generate custom prompts.\n"
      ],
      "metadata": {
        "id": "ij_jdmV3Hsl0"
      }
    },
    {
      "cell_type": "markdown",
      "source": [
        "## Data Wrangling\n",
        "\n",
        "Load the chosen dataset into a `pandas` dataframe with a column named `\"text\"`. This column should contain all of the text data, separated into at least 20 rows."
      ],
      "metadata": {
        "id": "DbKVukjbIFOt"
      }
    },
    {
      "cell_type": "code",
      "source": [
        "import pandas as pd\n",
        "import numpy as np\n",
        "import os"
      ],
      "metadata": {
        "id": "0GM6MdFvHsNL"
      },
      "execution_count": 1,
      "outputs": []
    },
    {
      "cell_type": "markdown",
      "source": [
        "Load the NYC Food Scrap Drop-off Sites dataset"
      ],
      "metadata": {
        "id": "pSRJkW6YIQlc"
      }
    },
    {
      "cell_type": "code",
      "execution_count": 2,
      "metadata": {
        "id": "UBJz8iJ2HeZg"
      },
      "outputs": [],
      "source": [
        "df = pd.read_csv('nyc_food_scrap_drop_off_sites.csv')"
      ]
    },
    {
      "cell_type": "markdown",
      "source": [
        "Display basic information about the dataset"
      ],
      "metadata": {
        "id": "_YiAy_tVJCeM"
      }
    },
    {
      "cell_type": "code",
      "source": [
        "print(f\"Dataset shape: {df.shape}\")\n",
        "print(df.head())"
      ],
      "metadata": {
        "colab": {
          "base_uri": "https://localhost:8080/"
        },
        "id": "53trB-0BJDjc",
        "outputId": "ed398ff6-6009-4685-cd62-e41f5a0b45f4"
      },
      "execution_count": 3,
      "outputs": [
        {
          "output_type": "stream",
          "name": "stdout",
          "text": [
            "Dataset shape: (576, 25)\n",
            "   Unnamed: 0        borough                                     ntaname  \\\n",
            "0           0  Staten Island  Grasmere-Arrochar-South Beach-Dongan Hills   \n",
            "1           1      Manhattan                                      Inwood   \n",
            "2           2       Brooklyn                                  Park Slope   \n",
            "3           3      Manhattan                         East Harlem (North)   \n",
            "4           4         Queens                                      Corona   \n",
            "\n",
            "                      food_scrap_drop_off_site  \\\n",
            "0                                  South Beach   \n",
            "1       SE Corner of Broadway & Academy Street   \n",
            "2                     Old Stone House Brooklyn   \n",
            "3  SE Corner of Pleasant Avenue & E 116 Street   \n",
            "4                               Malcolm X FSDO   \n",
            "\n",
            "                                   location  \\\n",
            "0           21 Robin Road, Staten Island NY   \n",
            "1                                       NaN   \n",
            "2            336 3rd St, Brooklyn, NY 11215   \n",
            "3                                       NaN   \n",
            "4  111-26 Northern Blvd, Flushing, NY 11368   \n",
            "\n",
            "                                 hosted_by open_months  \\\n",
            "0                        Snug Harbor Youth  Year Round   \n",
            "1                 Department of Sanitation  Year Round   \n",
            "2                 Old Stone House Brooklyn  Year Round   \n",
            "3                 Department of Sanitation  Year Round   \n",
            "4  NYC Compost Project Hosted by Big Reuse  Year Round   \n",
            "\n",
            "                                 operation_day_hours  \\\n",
            "0  Friday (Start Time: 1:30 PM - End Time:  4:30 PM)   \n",
            "1                                               24/7   \n",
            "2          24/7 (Start Time: 24/7 - End Time:  24/7)   \n",
            "3                                               24/7   \n",
            "4  Tuesdays (Start Time: 12:00 PM - End Time:  2:...   \n",
            "\n",
            "                       website  borocd  ...  \\\n",
            "0              snug-harbor.org     502  ...   \n",
            "1  www.nyc.gov/smartcomposting     112  ...   \n",
            "2                          NaN     306  ...   \n",
            "3  www.nyc.gov/smartcomposting     111  ...   \n",
            "4                          NaN     404  ...   \n",
            "\n",
            "                                      location_point  \\\n",
            "0  {'type': 'Point', 'coordinates': [-74.062991, ...   \n",
            "1                                                NaN   \n",
            "2  {'type': 'Point', 'coordinates': [-73.984731, ...   \n",
            "3                                                NaN   \n",
            "4  {'type': 'Point', 'coordinates': [-73.8630721,...   \n",
            "\n",
            "   :@computed_region_yeji_bk3q  :@computed_region_92fq_4b7q  \\\n",
            "0                          1.0                         14.0   \n",
            "1                          NaN                          NaN   \n",
            "2                          2.0                         27.0   \n",
            "3                          NaN                          NaN   \n",
            "4                          3.0                         21.0   \n",
            "\n",
            "   :@computed_region_sbqj_enih  :@computed_region_efsh_h5xi  \\\n",
            "0                         76.0                      10692.0   \n",
            "1                          NaN                          NaN   \n",
            "2                         50.0                      17617.0   \n",
            "3                          NaN                          NaN   \n",
            "4                         68.0                      14510.0   \n",
            "\n",
            "  :@computed_region_f5dn_yrer  \\\n",
            "0                        30.0   \n",
            "1                         NaN   \n",
            "2                        14.0   \n",
            "3                         NaN   \n",
            "4                        66.0   \n",
            "\n",
            "                                               notes  ct2010  bbl  bin  \n",
            "0                                                NaN     NaN  NaN  NaN  \n",
            "1  Download the app to access bins. Accepts all f...     NaN  NaN  NaN  \n",
            "2                                                NaN     NaN  NaN  NaN  \n",
            "3  Download the app to access bins. Accepts all f...     NaN  NaN  NaN  \n",
            "4                                                NaN     NaN  NaN  NaN  \n",
            "\n",
            "[5 rows x 25 columns]\n"
          ]
        }
      ]
    },
    {
      "cell_type": "markdown",
      "source": [
        "Let's look at the columns in our dataset"
      ],
      "metadata": {
        "id": "xlAjDM-FJWXr"
      }
    },
    {
      "cell_type": "code",
      "source": [
        "print(\"\\nColumns in the dataset:\")\n",
        "for col in df.columns:\n",
        "    print(f\"- {col}\")"
      ],
      "metadata": {
        "colab": {
          "base_uri": "https://localhost:8080/"
        },
        "id": "yfL5sDLkJXuy",
        "outputId": "1f484095-464a-482a-e2aa-c5a28dbad285"
      },
      "execution_count": 4,
      "outputs": [
        {
          "output_type": "stream",
          "name": "stdout",
          "text": [
            "\n",
            "Columns in the dataset:\n",
            "- Unnamed: 0\n",
            "- borough\n",
            "- ntaname\n",
            "- food_scrap_drop_off_site\n",
            "- location\n",
            "- hosted_by\n",
            "- open_months\n",
            "- operation_day_hours\n",
            "- website\n",
            "- borocd\n",
            "- councildist\n",
            "- latitude\n",
            "- longitude\n",
            "- precinct\n",
            "- object_id\n",
            "- location_point\n",
            "- :@computed_region_yeji_bk3q\n",
            "- :@computed_region_92fq_4b7q\n",
            "- :@computed_region_sbqj_enih\n",
            "- :@computed_region_efsh_h5xi\n",
            "- :@computed_region_f5dn_yrer\n",
            "- notes\n",
            "- ct2010\n",
            "- bbl\n",
            "- bin\n"
          ]
        }
      ]
    },
    {
      "cell_type": "markdown",
      "source": [
        "Transform the dataset to create a \"text\" column with relevant information. We'll create comprehensive descriptions of each drop-off site"
      ],
      "metadata": {
        "id": "iFEhrxSSJgnh"
      }
    },
    {
      "cell_type": "code",
      "source": [
        "def create_site_description(row):\n",
        "    # Start with the site name and borough\n",
        "    text = f\"Food Scrap Drop-off Site: {row['food_scrap_drop_off_site']} in {row['borough']}, {row['ntaname']}. \"\n",
        "\n",
        "    # Add location details\n",
        "    if pd.notna(row['location']):\n",
        "        text += f\"Located at {row['location']}. \"\n",
        "\n",
        "    # Add hosting organization\n",
        "    if pd.notna(row['hosted_by']):\n",
        "        text += f\"Hosted by {row['hosted_by']}. \"\n",
        "\n",
        "    # Add operating hours\n",
        "    if pd.notna(row['open_months']) and pd.notna(row['operation_day_hours']):\n",
        "        text += f\"Open {row['open_months']}, {row['operation_day_hours']}. \"\n",
        "    elif pd.notna(row['open_months']):\n",
        "        text += f\"Open {row['open_months']}. \"\n",
        "    elif pd.notna(row['operation_day_hours']):\n",
        "        text += f\"Open {row['operation_day_hours']}. \"\n",
        "\n",
        "    # Add website if available\n",
        "    if pd.notna(row['website']):\n",
        "        text += f\"Website: {row['website']}. \"\n",
        "\n",
        "    # Add notes about acceptable materials\n",
        "    if pd.notna(row['notes']):\n",
        "        text += f\"Additional information: {row['notes']} \"\n",
        "\n",
        "    # Add coordinates for mapping\n",
        "    if pd.notna(row['latitude']) and pd.notna(row['longitude']):\n",
        "        text += f\"GPS coordinates: {row['latitude']}, {row['longitude']}.\"\n",
        "\n",
        "    return text"
      ],
      "metadata": {
        "id": "cUoLZMtqJlqq"
      },
      "execution_count": 5,
      "outputs": []
    },
    {
      "cell_type": "markdown",
      "source": [
        "Create the text column"
      ],
      "metadata": {
        "id": "dBRN0teQJqyy"
      }
    },
    {
      "cell_type": "code",
      "source": [
        "df['text'] = df.apply(create_site_description, axis=1)"
      ],
      "metadata": {
        "id": "C65N-1KOJsgn"
      },
      "execution_count": 6,
      "outputs": []
    },
    {
      "cell_type": "markdown",
      "source": [
        "Show examples of the created text descriptions"
      ],
      "metadata": {
        "id": "siUoUrKpJvYX"
      }
    },
    {
      "cell_type": "code",
      "source": [
        "print(\"\\nSample text descriptions:\")\n",
        "for i in range(3):\n",
        "    print(f\"\\nSite {i+1}:\\n{df['text'].iloc[i]}\")"
      ],
      "metadata": {
        "colab": {
          "base_uri": "https://localhost:8080/"
        },
        "id": "g3LZLNLJJzVh",
        "outputId": "15bc4efb-47a1-4752-fb17-1295b28319f8"
      },
      "execution_count": 7,
      "outputs": [
        {
          "output_type": "stream",
          "name": "stdout",
          "text": [
            "\n",
            "Sample text descriptions:\n",
            "\n",
            "Site 1:\n",
            "Food Scrap Drop-off Site: South Beach in Staten Island, Grasmere-Arrochar-South Beach-Dongan Hills. Located at 21 Robin Road, Staten Island NY. Hosted by Snug Harbor Youth. Open Year Round, Friday (Start Time: 1:30 PM - End Time:  4:30 PM). Website: snug-harbor.org. GPS coordinates: 40.595579, -74.062991.\n",
            "\n",
            "Site 2:\n",
            "Food Scrap Drop-off Site: SE Corner of Broadway & Academy Street in Manhattan, Inwood. Hosted by Department of Sanitation. Open Year Round, 24/7. Website: www.nyc.gov/smartcomposting. Additional information: Download the app to access bins. Accepts all food scraps, including meat and dairy. Do not leave food scraps outside of bin! \n",
            "\n",
            "Site 3:\n",
            "Food Scrap Drop-off Site: Old Stone House Brooklyn in Brooklyn, Park Slope. Located at 336 3rd St, Brooklyn, NY 11215. Hosted by Old Stone House Brooklyn. Open Year Round, 24/7 (Start Time: 24/7 - End Time:  24/7). GPS coordinates: 40.6727118, -73.984731.\n"
          ]
        }
      ]
    },
    {
      "cell_type": "markdown",
      "source": [
        "## Custom Query Completion\n",
        "\n",
        "Compose a custom query using the chosen dataset and retrieve results from an OpenAI `Completion` model."
      ],
      "metadata": {
        "id": "Y9h-gXD-J815"
      }
    },
    {
      "cell_type": "markdown",
      "source": [
        "Import necessary libraries for working with the OpenAI API"
      ],
      "metadata": {
        "id": "vW_C_SiYKgUJ"
      }
    },
    {
      "cell_type": "code",
      "source": [
        "!pip install dotenv"
      ],
      "metadata": {
        "colab": {
          "base_uri": "https://localhost:8080/"
        },
        "id": "6dgTIFJmKtsn",
        "outputId": "7a7bb11f-81b3-40d0-ee02-b615b0d76250"
      },
      "execution_count": 9,
      "outputs": [
        {
          "output_type": "stream",
          "name": "stdout",
          "text": [
            "Collecting dotenv\n",
            "  Downloading dotenv-0.9.9-py2.py3-none-any.whl.metadata (279 bytes)\n",
            "Collecting python-dotenv (from dotenv)\n",
            "  Downloading python_dotenv-1.1.0-py3-none-any.whl.metadata (24 kB)\n",
            "Downloading dotenv-0.9.9-py2.py3-none-any.whl (1.9 kB)\n",
            "Downloading python_dotenv-1.1.0-py3-none-any.whl (20 kB)\n",
            "Installing collected packages: python-dotenv, dotenv\n",
            "Successfully installed dotenv-0.9.9 python-dotenv-1.1.0\n"
          ]
        }
      ]
    },
    {
      "cell_type": "code",
      "source": [
        "import openai\n",
        "import os\n",
        "from dotenv import load_dotenv"
      ],
      "metadata": {
        "id": "1zKhDw99KZtH"
      },
      "execution_count": 10,
      "outputs": []
    },
    {
      "cell_type": "markdown",
      "source": [
        "Load API key from environment variables"
      ],
      "metadata": {
        "id": "Khm7qyRZKmv2"
      }
    },
    {
      "cell_type": "markdown",
      "source": [
        "\n",
        "load_dotenv()  # Load environment variables from .env file if present\n",
        "openai.api_key = os.getenv('OPENAI_API_KEY')"
      ],
      "metadata": {
        "id": "uQQnIriVKiv2"
      }
    }
  ]
}