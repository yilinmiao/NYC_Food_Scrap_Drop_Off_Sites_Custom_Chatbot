{
  "nbformat": 4,
  "nbformat_minor": 0,
  "metadata": {
    "colab": {
      "provenance": [],
      "authorship_tag": "ABX9TyOH+2YwspYLlNNN63b2OuR/",
      "include_colab_link": true
    },
    "kernelspec": {
      "name": "python3",
      "display_name": "Python 3"
    },
    "language_info": {
      "name": "python"
    }
  },
  "cells": [
    {
      "cell_type": "markdown",
      "metadata": {
        "id": "view-in-github",
        "colab_type": "text"
      },
      "source": [
        "<a href=\"https://colab.research.google.com/github/yilinmiao/NYC_Food_Scrap_Drop_Off_Sites_Custom_Chatbot/blob/main/NYC_Food_Scrap_Drop_Off_Sites_Custom_Chatbot.ipynb\" target=\"_parent\"><img src=\"https://colab.research.google.com/assets/colab-badge.svg\" alt=\"Open In Colab\"/></a>"
      ]
    },
    {
      "cell_type": "markdown",
      "source": [
        "# NYC Food Scrap Drop-Off Sites Custom Chatbot"
      ],
      "metadata": {
        "id": "QPeeH2yjHgZo"
      }
    },
    {
      "cell_type": "markdown",
      "source": [
        "For this chatbot, I've chosen the NYC Food Scrap Drop-off Sites dataset. This dataset is appropriate for this application because it provides comprehensive information about composting locations throughout New York City, including details about location, hours, acceptable materials, and special instructions. This data would be valuable for creating a chatbot that can help NYC residents find convenient places to drop off their food scraps and understand composting guidelines, promoting sustainable waste management practices in the city. The structured nature of the data with various fields makes it suitable for conversion into a text format that can be used to generate custom prompts.\n"
      ],
      "metadata": {
        "id": "ij_jdmV3Hsl0"
      }
    },
    {
      "cell_type": "markdown",
      "source": [
        "## Data Wrangling\n",
        "\n",
        "Load the chosen dataset into a `pandas` dataframe with a column named `\"text\"`. This column should contain all of the text data, separated into at least 20 rows."
      ],
      "metadata": {
        "id": "DbKVukjbIFOt"
      }
    },
    {
      "cell_type": "code",
      "source": [
        "import pandas as pd\n",
        "import numpy as np\n",
        "import os"
      ],
      "metadata": {
        "id": "0GM6MdFvHsNL"
      },
      "execution_count": null,
      "outputs": []
    },
    {
      "cell_type": "markdown",
      "source": [
        "Load the NYC Food Scrap Drop-off Sites dataset"
      ],
      "metadata": {
        "id": "pSRJkW6YIQlc"
      }
    },
    {
      "cell_type": "code",
      "execution_count": null,
      "metadata": {
        "id": "UBJz8iJ2HeZg"
      },
      "outputs": [],
      "source": [
        "df = pd.read_csv('nyc_food_scrap_drop_off_sites.csv')"
      ]
    }
  ]
}