{
  "nbformat": 4,
  "nbformat_minor": 0,
  "metadata": {
    "colab": {
      "provenance": [],
      "mount_file_id": "1Fhy_PPr9gUDsgz_vzs37mvf6UoGrbIIw",
      "authorship_tag": "ABX9TyNiwL7Opm3/t66pFVNdD5E3",
      "include_colab_link": true
    },
    "kernelspec": {
      "name": "python3",
      "display_name": "Python 3"
    },
    "language_info": {
      "name": "python"
    }
  },
  "cells": [
    {
      "cell_type": "markdown",
      "metadata": {
        "id": "view-in-github",
        "colab_type": "text"
      },
      "source": [
        "<a href=\"https://colab.research.google.com/github/yilinmiao/NYC_Food_Scrap_Drop_Off_Sites_Custom_Chatbot/blob/main/NYC_Food_Scrap_Drop_Off_Sites_Custom_Chatbot.ipynb\" target=\"_parent\"><img src=\"https://colab.research.google.com/assets/colab-badge.svg\" alt=\"Open In Colab\"/></a>"
      ]
    },
    {
      "cell_type": "markdown",
      "source": [
        "# NYC Food Scrap Drop-Off Sites Custom Chatbot"
      ],
      "metadata": {
        "id": "QPeeH2yjHgZo"
      }
    },
    {
      "cell_type": "markdown",
      "source": [
        "For this chatbot, I've chosen the NYC Food Scrap Drop-off Sites dataset. This dataset is appropriate for this application because it provides comprehensive information about composting locations throughout New York City, including details about location, hours, acceptable materials, and special instructions. This data would be valuable for creating a chatbot that can help NYC residents find convenient places to drop off their food scraps and understand composting guidelines, promoting sustainable waste management practices in the city. The structured nature of the data with various fields makes it suitable for conversion into a text format that can be used to generate custom prompts.\n"
      ],
      "metadata": {
        "id": "ij_jdmV3Hsl0"
      }
    },
    {
      "cell_type": "markdown",
      "source": [
        "## Data Wrangling\n",
        "\n",
        "Load the chosen dataset into a `pandas` dataframe with a column named `\"text\"`. This column should contain all of the text data, separated into at least 20 rows."
      ],
      "metadata": {
        "id": "DbKVukjbIFOt"
      }
    },
    {
      "cell_type": "code",
      "source": [
        "import pandas as pd\n",
        "import numpy as np\n",
        "import os"
      ],
      "metadata": {
        "id": "0GM6MdFvHsNL"
      },
      "execution_count": 1,
      "outputs": []
    },
    {
      "cell_type": "markdown",
      "source": [
        "Load the NYC Food Scrap Drop-off Sites dataset"
      ],
      "metadata": {
        "id": "pSRJkW6YIQlc"
      }
    },
    {
      "cell_type": "code",
      "execution_count": 2,
      "metadata": {
        "id": "UBJz8iJ2HeZg"
      },
      "outputs": [],
      "source": [
        "df = pd.read_csv('nyc_food_scrap_drop_off_sites.csv')"
      ]
    },
    {
      "cell_type": "markdown",
      "source": [
        "Display basic information about the dataset"
      ],
      "metadata": {
        "id": "_YiAy_tVJCeM"
      }
    },
    {
      "cell_type": "code",
      "source": [
        "print(f\"Dataset shape: {df.shape}\")\n",
        "print(df.head())"
      ],
      "metadata": {
        "colab": {
          "base_uri": "https://localhost:8080/"
        },
        "id": "53trB-0BJDjc",
        "outputId": "092af8f7-58a2-48a4-f318-1160e9906682"
      },
      "execution_count": 3,
      "outputs": [
        {
          "output_type": "stream",
          "name": "stdout",
          "text": [
            "Dataset shape: (576, 25)\n",
            "   Unnamed: 0        borough                                     ntaname  \\\n",
            "0           0  Staten Island  Grasmere-Arrochar-South Beach-Dongan Hills   \n",
            "1           1      Manhattan                                      Inwood   \n",
            "2           2       Brooklyn                                  Park Slope   \n",
            "3           3      Manhattan                         East Harlem (North)   \n",
            "4           4         Queens                                      Corona   \n",
            "\n",
            "                      food_scrap_drop_off_site  \\\n",
            "0                                  South Beach   \n",
            "1       SE Corner of Broadway & Academy Street   \n",
            "2                     Old Stone House Brooklyn   \n",
            "3  SE Corner of Pleasant Avenue & E 116 Street   \n",
            "4                               Malcolm X FSDO   \n",
            "\n",
            "                                   location  \\\n",
            "0           21 Robin Road, Staten Island NY   \n",
            "1                                       NaN   \n",
            "2            336 3rd St, Brooklyn, NY 11215   \n",
            "3                                       NaN   \n",
            "4  111-26 Northern Blvd, Flushing, NY 11368   \n",
            "\n",
            "                                 hosted_by open_months  \\\n",
            "0                        Snug Harbor Youth  Year Round   \n",
            "1                 Department of Sanitation  Year Round   \n",
            "2                 Old Stone House Brooklyn  Year Round   \n",
            "3                 Department of Sanitation  Year Round   \n",
            "4  NYC Compost Project Hosted by Big Reuse  Year Round   \n",
            "\n",
            "                                 operation_day_hours  \\\n",
            "0  Friday (Start Time: 1:30 PM - End Time:  4:30 PM)   \n",
            "1                                               24/7   \n",
            "2          24/7 (Start Time: 24/7 - End Time:  24/7)   \n",
            "3                                               24/7   \n",
            "4  Tuesdays (Start Time: 12:00 PM - End Time:  2:...   \n",
            "\n",
            "                       website  borocd  ...  \\\n",
            "0              snug-harbor.org     502  ...   \n",
            "1  www.nyc.gov/smartcomposting     112  ...   \n",
            "2                          NaN     306  ...   \n",
            "3  www.nyc.gov/smartcomposting     111  ...   \n",
            "4                          NaN     404  ...   \n",
            "\n",
            "                                      location_point  \\\n",
            "0  {'type': 'Point', 'coordinates': [-74.062991, ...   \n",
            "1                                                NaN   \n",
            "2  {'type': 'Point', 'coordinates': [-73.984731, ...   \n",
            "3                                                NaN   \n",
            "4  {'type': 'Point', 'coordinates': [-73.8630721,...   \n",
            "\n",
            "   :@computed_region_yeji_bk3q  :@computed_region_92fq_4b7q  \\\n",
            "0                          1.0                         14.0   \n",
            "1                          NaN                          NaN   \n",
            "2                          2.0                         27.0   \n",
            "3                          NaN                          NaN   \n",
            "4                          3.0                         21.0   \n",
            "\n",
            "   :@computed_region_sbqj_enih  :@computed_region_efsh_h5xi  \\\n",
            "0                         76.0                      10692.0   \n",
            "1                          NaN                          NaN   \n",
            "2                         50.0                      17617.0   \n",
            "3                          NaN                          NaN   \n",
            "4                         68.0                      14510.0   \n",
            "\n",
            "  :@computed_region_f5dn_yrer  \\\n",
            "0                        30.0   \n",
            "1                         NaN   \n",
            "2                        14.0   \n",
            "3                         NaN   \n",
            "4                        66.0   \n",
            "\n",
            "                                               notes  ct2010  bbl  bin  \n",
            "0                                                NaN     NaN  NaN  NaN  \n",
            "1  Download the app to access bins. Accepts all f...     NaN  NaN  NaN  \n",
            "2                                                NaN     NaN  NaN  NaN  \n",
            "3  Download the app to access bins. Accepts all f...     NaN  NaN  NaN  \n",
            "4                                                NaN     NaN  NaN  NaN  \n",
            "\n",
            "[5 rows x 25 columns]\n"
          ]
        }
      ]
    },
    {
      "cell_type": "markdown",
      "source": [
        "Let's look at the columns in our dataset"
      ],
      "metadata": {
        "id": "xlAjDM-FJWXr"
      }
    },
    {
      "cell_type": "code",
      "source": [
        "print(\"\\nColumns in the dataset:\")\n",
        "for col in df.columns:\n",
        "    print(f\"- {col}\")"
      ],
      "metadata": {
        "colab": {
          "base_uri": "https://localhost:8080/"
        },
        "id": "yfL5sDLkJXuy",
        "outputId": "0cf64c57-7a8c-48dc-e714-19e0cc5eab91"
      },
      "execution_count": 4,
      "outputs": [
        {
          "output_type": "stream",
          "name": "stdout",
          "text": [
            "\n",
            "Columns in the dataset:\n",
            "- Unnamed: 0\n",
            "- borough\n",
            "- ntaname\n",
            "- food_scrap_drop_off_site\n",
            "- location\n",
            "- hosted_by\n",
            "- open_months\n",
            "- operation_day_hours\n",
            "- website\n",
            "- borocd\n",
            "- councildist\n",
            "- latitude\n",
            "- longitude\n",
            "- precinct\n",
            "- object_id\n",
            "- location_point\n",
            "- :@computed_region_yeji_bk3q\n",
            "- :@computed_region_92fq_4b7q\n",
            "- :@computed_region_sbqj_enih\n",
            "- :@computed_region_efsh_h5xi\n",
            "- :@computed_region_f5dn_yrer\n",
            "- notes\n",
            "- ct2010\n",
            "- bbl\n",
            "- bin\n"
          ]
        }
      ]
    },
    {
      "cell_type": "markdown",
      "source": [
        "Transform the dataset to create a \"text\" column with relevant information. We'll create comprehensive descriptions of each drop-off site"
      ],
      "metadata": {
        "id": "iFEhrxSSJgnh"
      }
    },
    {
      "cell_type": "code",
      "source": [
        "def create_site_description(row):\n",
        "    # Start with the site name and borough\n",
        "    text = f\"Food Scrap Drop-off Site: {row['food_scrap_drop_off_site']} in {row['borough']}, {row['ntaname']}. \"\n",
        "\n",
        "    # Add location details\n",
        "    if pd.notna(row['location']):\n",
        "        text += f\"Located at {row['location']}. \"\n",
        "\n",
        "    # Add hosting organization\n",
        "    if pd.notna(row['hosted_by']):\n",
        "        text += f\"Hosted by {row['hosted_by']}. \"\n",
        "\n",
        "    # Add operating hours\n",
        "    if pd.notna(row['open_months']) and pd.notna(row['operation_day_hours']):\n",
        "        text += f\"Open {row['open_months']}, {row['operation_day_hours']}. \"\n",
        "    elif pd.notna(row['open_months']):\n",
        "        text += f\"Open {row['open_months']}. \"\n",
        "    elif pd.notna(row['operation_day_hours']):\n",
        "        text += f\"Open {row['operation_day_hours']}. \"\n",
        "\n",
        "    # Add website if available\n",
        "    if pd.notna(row['website']):\n",
        "        text += f\"Website: {row['website']}. \"\n",
        "\n",
        "    # Add notes about acceptable materials\n",
        "    if pd.notna(row['notes']):\n",
        "        text += f\"Additional information: {row['notes']} \"\n",
        "\n",
        "    # Add coordinates for mapping\n",
        "    if pd.notna(row['latitude']) and pd.notna(row['longitude']):\n",
        "        text += f\"GPS coordinates: {row['latitude']}, {row['longitude']}.\"\n",
        "\n",
        "    return text"
      ],
      "metadata": {
        "id": "cUoLZMtqJlqq"
      },
      "execution_count": 5,
      "outputs": []
    },
    {
      "cell_type": "markdown",
      "source": [
        "Create the text column"
      ],
      "metadata": {
        "id": "dBRN0teQJqyy"
      }
    },
    {
      "cell_type": "code",
      "source": [
        "df['text'] = df.apply(create_site_description, axis=1)"
      ],
      "metadata": {
        "id": "C65N-1KOJsgn"
      },
      "execution_count": 6,
      "outputs": []
    },
    {
      "cell_type": "markdown",
      "source": [
        "Show examples of the created text descriptions"
      ],
      "metadata": {
        "id": "siUoUrKpJvYX"
      }
    },
    {
      "cell_type": "code",
      "source": [
        "print(\"\\nSample text descriptions:\")\n",
        "for i in range(3):\n",
        "    print(f\"\\nSite {i+1}:\\n{df['text'].iloc[i]}\")"
      ],
      "metadata": {
        "colab": {
          "base_uri": "https://localhost:8080/"
        },
        "id": "g3LZLNLJJzVh",
        "outputId": "3356b9ec-470b-44d9-d533-5f07649b2f70"
      },
      "execution_count": 7,
      "outputs": [
        {
          "output_type": "stream",
          "name": "stdout",
          "text": [
            "\n",
            "Sample text descriptions:\n",
            "\n",
            "Site 1:\n",
            "Food Scrap Drop-off Site: South Beach in Staten Island, Grasmere-Arrochar-South Beach-Dongan Hills. Located at 21 Robin Road, Staten Island NY. Hosted by Snug Harbor Youth. Open Year Round, Friday (Start Time: 1:30 PM - End Time:  4:30 PM). Website: snug-harbor.org. GPS coordinates: 40.595579, -74.062991.\n",
            "\n",
            "Site 2:\n",
            "Food Scrap Drop-off Site: SE Corner of Broadway & Academy Street in Manhattan, Inwood. Hosted by Department of Sanitation. Open Year Round, 24/7. Website: www.nyc.gov/smartcomposting. Additional information: Download the app to access bins. Accepts all food scraps, including meat and dairy. Do not leave food scraps outside of bin! \n",
            "\n",
            "Site 3:\n",
            "Food Scrap Drop-off Site: Old Stone House Brooklyn in Brooklyn, Park Slope. Located at 336 3rd St, Brooklyn, NY 11215. Hosted by Old Stone House Brooklyn. Open Year Round, 24/7 (Start Time: 24/7 - End Time:  24/7). GPS coordinates: 40.6727118, -73.984731.\n"
          ]
        }
      ]
    },
    {
      "cell_type": "markdown",
      "source": [
        "## Custom Query Completion\n",
        "\n",
        "Compose a custom query using the chosen dataset and retrieve results from an OpenAI `Completion` model."
      ],
      "metadata": {
        "id": "Y9h-gXD-J815"
      }
    },
    {
      "cell_type": "markdown",
      "source": [
        "Import necessary libraries for working with the OpenAI API"
      ],
      "metadata": {
        "id": "vW_C_SiYKgUJ"
      }
    },
    {
      "cell_type": "code",
      "source": [
        "!pip install dotenv"
      ],
      "metadata": {
        "colab": {
          "base_uri": "https://localhost:8080/"
        },
        "id": "6dgTIFJmKtsn",
        "outputId": "f674c7dc-eafc-4b68-a1cd-21904c3101fa"
      },
      "execution_count": 8,
      "outputs": [
        {
          "output_type": "stream",
          "name": "stdout",
          "text": [
            "Requirement already satisfied: dotenv in /usr/local/lib/python3.11/dist-packages (0.9.9)\n",
            "Requirement already satisfied: python-dotenv in /usr/local/lib/python3.11/dist-packages (from dotenv) (1.1.0)\n"
          ]
        }
      ]
    },
    {
      "cell_type": "code",
      "source": [
        "from openai import OpenAI"
      ],
      "metadata": {
        "id": "1zKhDw99KZtH"
      },
      "execution_count": 43,
      "outputs": []
    },
    {
      "cell_type": "markdown",
      "source": [
        "Load API key from colab variables"
      ],
      "metadata": {
        "id": "Khm7qyRZKmv2"
      }
    },
    {
      "cell_type": "code",
      "source": [
        "from google.colab import userdata\n",
        "client = OpenAI(api_key=userdata.get('OPENAI_API_KEY'))"
      ],
      "metadata": {
        "id": "KSz2gnMkLCff"
      },
      "execution_count": 58,
      "outputs": []
    },
    {
      "cell_type": "markdown",
      "source": [
        "Check if API key is available"
      ],
      "metadata": {
        "id": "uQQnIriVKiv2"
      }
    },
    {
      "cell_type": "code",
      "source": [
        "if not client.api_key:\n",
        "    print(\"WARNING: OPENAI_API_KEY environment variable not set. Please set this before proceeding.\")\n"
      ],
      "metadata": {
        "id": "FuXxTY6GLWbu"
      },
      "execution_count": 59,
      "outputs": []
    },
    {
      "cell_type": "markdown",
      "source": [
        "Prepare data for the custom prompt.\n",
        "Let's create a subset of the data to keep our prompt concise.\n",
        "We'll make sure to have at least 20 rows as required."
      ],
      "metadata": {
        "id": "_UpHzTAztV8t"
      }
    },
    {
      "cell_type": "code",
      "source": [
        "df_subset = df.head(30)  # Taking 30 rows to ensure we have more than 20\n",
        "# Verify we have at least 20 rows with text content\n",
        "print(f\"\\nNumber of rows in our subset: {len(df_subset)}\")"
      ],
      "metadata": {
        "colab": {
          "base_uri": "https://localhost:8080/"
        },
        "id": "fBeCrZSVs3Rb",
        "outputId": "000b33f6-8834-4ed9-9952-a1434d763538"
      },
      "execution_count": 60,
      "outputs": [
        {
          "output_type": "stream",
          "name": "stdout",
          "text": [
            "\n",
            "Number of rows in our subset: 30\n"
          ]
        }
      ]
    },
    {
      "cell_type": "code",
      "source": [
        "# Create a function to generate a custom prompt\n",
        "def generate_custom_prompt(user_query, dataset_texts):\n",
        "    # Create a system prompt that describes the role and includes the dataset\n",
        "    system_prompt = (\n",
        "        \"You are an expert assistant specializing in NYC food scrap drop-off sites and composting information. \"\n",
        "        \"You help people find places to drop off their food scraps for composting in New York City. \"\n",
        "        \"You have detailed knowledge about drop-off locations, operating hours, accepted materials, and other relevant information. \"\n",
        "        \"\\n\\nHere is information about food scrap drop-off sites in NYC that you can use to answer questions:\\n\\n\"\n",
        "    )\n",
        "\n",
        "    # Add dataset texts to the system prompt\n",
        "    for i, text in enumerate(dataset_texts):\n",
        "        system_prompt += f\"Site {i+1}: {text}\\n\\n\"\n",
        "\n",
        "    # Add instructions for how to respond\n",
        "    system_prompt += (\n",
        "        \"\\nWhen answering questions:\\n\"\n",
        "        \"1. Provide specific site recommendations based on the locations or criteria mentioned.\"\n",
        "        \"2. Include relevant details like operating hours, accepted materials, and any special instructions.\"\n",
        "        \"3. If you don't know the answer based on the provided information, say so instead of making up details.\"\n",
        "        \"4. Be helpful, accurate, and concise in your responses.\"\n",
        "    )\n",
        "\n",
        "    return system_prompt, user_query\n"
      ],
      "metadata": {
        "id": "5-8puLMdt2B6"
      },
      "execution_count": 61,
      "outputs": []
    },
    {
      "cell_type": "code",
      "source": [
        "# Function to call the OpenAI API with the custom prompt\n",
        "def get_completion_with_custom_prompt(user_query, dataset_texts, model=\"gpt-3.5-turbo\"):\n",
        "    system_prompt, formatted_query = generate_custom_prompt(user_query, dataset_texts)\n",
        "\n",
        "    try:\n",
        "        response = client.chat.completions.create(\n",
        "            model=model,\n",
        "            messages=[\n",
        "                {\"role\": \"system\", \"content\": system_prompt},\n",
        "                {\"role\": \"user\", \"content\": formatted_query}\n",
        "            ],\n",
        "            temperature=0.7,\n",
        "            max_tokens=1000\n",
        "        )\n",
        "        return response.choices[0].message.content\n",
        "    except Exception as e:\n",
        "        return f\"Error: {str(e)}\"\n"
      ],
      "metadata": {
        "id": "gzdmAQ4vt3xi"
      },
      "execution_count": 62,
      "outputs": []
    },
    {
      "cell_type": "code",
      "source": [
        "# Function to call the OpenAI API with a basic prompt (for comparison)\n",
        "def get_completion_with_basic_prompt(user_query, model=\"gpt-3.5-turbo\"):\n",
        "    try:\n",
        "        response = client.chat.completions.create(\n",
        "            model=model,\n",
        "            messages=[\n",
        "                {\"role\": \"system\", \"content\": \"You are a helpful assistant.\"},\n",
        "                {\"role\": \"user\", \"content\": user_query}\n",
        "            ],\n",
        "            temperature=0.7,\n",
        "            max_tokens=1000\n",
        "        )\n",
        "        return response.choices[0].message.content\n",
        "    except Exception as e:\n",
        "        return f\"Error: {str(e)}\""
      ],
      "metadata": {
        "id": "OKkRj0Ift6Yi"
      },
      "execution_count": 63,
      "outputs": []
    },
    {
      "cell_type": "markdown",
      "source": [
        "## Custom Performance Demonstration\n",
        "===== Example usage (commented out to avoid actual API calls) =====\n",
        "\n",
        "### Test the custom query with a sample question\n",
        "\n",
        "> sample_query = \"Where can I drop off food scraps in Brooklyn on weekends?\"\n",
        "\n",
        "### Get response using the custom prompt\n",
        "\n",
        "> custom_response = get_completion_with_custom_prompt(sample_query, df_subset['text'].tolist())\n",
        ">\n",
        "> print(\"Response with custom prompt:\\n\")\n",
        ">\n",
        "> print(custom_response)\n",
        "\n",
        "### Get response using a basic prompt for comparison\n",
        "\n",
        "> basic_response = get_completion_with_basic_prompt(sample_query)\n",
        ">\n",
        "> print(\"\\nResponse with basic prompt:\\n\")\n",
        ">\n",
        "> print(basic_response)\n"
      ],
      "metadata": {
        "id": "BXitI1ALuDOr"
      }
    },
    {
      "cell_type": "code",
      "source": [
        "\n",
        "# Question 1\n",
        "question1 = \"Can I compost meat and dairy at the Astoria Pug drop-off site?\"\n",
        "\n",
        "# Get response with custom prompt\n",
        "custom_response1 = get_completion_with_custom_prompt(question1, df_subset['text'].tolist())\n",
        "print(\"Question: Can I compost meat and dairy at the Astoria Pug drop-off site?\\n\")\n",
        "print(\"Response with custom prompt:\\n\")\n",
        "print(custom_response1)\n",
        "\n",
        "# Get response with basic prompt\n",
        "basic_response1 = get_completion_with_basic_prompt(question1)\n",
        "print(\"\\nResponse with basic prompt:\\n\")\n",
        "print(basic_response1)\n",
        "\n",
        "# Question 2\n",
        "question2 = \"What are the drop-off sites that are open 24/7 in Manhattan?\"\n",
        "\n",
        "# Get response with custom prompt\n",
        "custom_response2 = get_completion_with_custom_prompt(question2, df_subset['text'].tolist())\n",
        "print(\"\\nQuestion: What are the drop-off sites that are open 24/7 in Manhattan?\\n\")\n",
        "print(\"Response with custom prompt:\\n\")\n",
        "print(custom_response2)\n",
        "\n",
        "# Get response with basic prompt\n",
        "basic_response2 = get_completion_with_basic_prompt(question2)\n",
        "print(\"\\nResponse with basic prompt:\\n\")\n",
        "print(basic_response2)\n",
        "\n"
      ],
      "metadata": {
        "colab": {
          "base_uri": "https://localhost:8080/"
        },
        "id": "8nOnN0JxvD4M",
        "outputId": "a2048f81-5914-4103-cf12-c16d33906186"
      },
      "execution_count": 65,
      "outputs": [
        {
          "output_type": "stream",
          "name": "stdout",
          "text": [
            "Question: Can I compost meat and dairy at the Astoria Pug drop-off site?\n",
            "\n",
            "Response with custom prompt:\n",
            "\n",
            "No, meat and dairy are not accepted at the Astoria Pug drop-off site. The site is located at Ditmars Boulevard and 41st Street in Queens, and it is hosted by Astoria Pug. Only food scraps excluding meat, bones, or dairy are accepted at this location. The drop-off hours are on Mondays from 8:00 AM to 2:00 PM. For more information, you can visit their website at https://www.instagram.com/astoriapug/?hl=en.\n",
            "\n",
            "Response with basic prompt:\n",
            "\n",
            "No, it is not recommended to compost meat and dairy at a community compost drop-off site like the one in Astoria. Meat and dairy products can attract pests, produce odors, and take longer to break down compared to plant-based materials. It's best to stick to composting fruit and vegetable scraps, coffee grounds, eggshells, and yard waste at community composting sites. If you have meat and dairy products to dispose of, it's better to use a designated waste disposal method or contact local waste management services for guidance.\n",
            "\n",
            "Question: What are the drop-off sites that are open 24/7 in Manhattan?\n",
            "\n",
            "Response with custom prompt:\n",
            "\n",
            "In Manhattan, the following food scrap drop-off sites are open 24/7:\n",
            "\n",
            "1. SE Corner of Broadway & Academy Street in Inwood\n",
            "   - Hosted by Department of Sanitation\n",
            "   - Accepts all food scraps, including meat and dairy\n",
            "   - Do not leave food scraps outside of bin\n",
            "\n",
            "2. SE Corner of Pleasant Avenue & E 116 Street in East Harlem (North)\n",
            "   - Hosted by Department of Sanitation\n",
            "   - Accepts all food scraps, including meat and dairy\n",
            "   - Do not leave food scraps outside of bin\n",
            "\n",
            "3. SW Corner of West 114th Street & Amsterdam Avenue in Morningside Heights\n",
            "   - Hosted by Department of Sanitation\n",
            "   - Accepts all food scraps, including meat and dairy\n",
            "   - Do not leave food scraps outside of bin\n",
            "\n",
            "4. SW Corner of East 118th Street & 1 Avenue in East Harlem (North)\n",
            "   - Hosted by Department of Sanitation\n",
            "   - Accepts all food scraps, including meat and dairy\n",
            "   - Do not leave food scraps outside of bin\n",
            "\n",
            "5. NE Corner of Wadsworth Avenue & W 182 Street in Washington Heights (North)\n",
            "   - Hosted by Department of Sanitation\n",
            "   - Accepts all food scraps, including meat and dairy\n",
            "   - Do not leave food scraps outside of bin\n",
            "\n",
            "Please note that these sites are accessible 24/7 for dropping off food scraps in Manhattan.\n",
            "\n",
            "Response with basic prompt:\n",
            "\n",
            "I can help you with that. There are several 24/7 drop-off sites in Manhattan where you can drop off items anytime. Some common options include:\n",
            "\n",
            "1. FedEx Office Print & Ship Center\n",
            "2. UPS Store\n",
            "3. 7-Eleven drop-off locations\n",
            "4. Some USPS drop-off boxes\n",
            "\n",
            "It's always a good idea to check the specific location's hours and services before visiting to ensure they are open 24/7.\n"
          ]
        }
      ]
    }
  ]
}